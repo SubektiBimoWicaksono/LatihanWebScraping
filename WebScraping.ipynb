{
 "cells": [
  {
   "cell_type": "code",
   "execution_count": null,
   "id": "ca4c8097",
   "metadata": {},
   "outputs": [],
   "source": [
    "import requests  # Mengimpor modul 'requests' yang digunakan untuk mengirim permintaan HTTP\n",
    "from bs4 import BeautifulSoup as bs  # Mengimpor modul 'BeautifulSoup' dari paket 'bs4' dengan alias 'bs'\n",
    "import csv  # Mengimpor modul 'csv' untuk operasi file CSV\n",
    "\n",
    "URL = 'https://proxyway.com/reviews'  # Menyimpan URL halaman web yang akan di-scrape\n",
    "\n",
    "titles_list = []  # Inisialisasi list kosong untuk menyimpan data judul\n",
    "\n",
    "# Looping dari halaman 1 hingga 3\n",
    "for page in range(1, 4):\n",
    "    req = requests.get(f'{URL}/page/{page}')  # Mengirim permintaan GET ke URL dengan nomor halaman yang sedang diulang\n",
    "    soup = bs(req.text, 'html.parser')  # Membuat objek BeautifulSoup dari teks respons menggunakan parser HTML\n",
    "    \n",
    "    titles = soup.find_all('h3', class_='archive-list__title')  # Mencari semua elemen 'h3' dengan kelas 'archive-list__title'\n",
    "    \n",
    "    # Looping melalui daftar judul dan menambahkannya ke 'titles_list'\n",
    "    for i, title in enumerate(titles, start=1):\n",
    "        title_data = {\n",
    "            'Page Number': f'Page {page}',\n",
    "            'Title Number': f'Title {i}',\n",
    "            'Title Name': title.text.strip()\n",
    "        }  # Membuat dictionary dengan informasi judul\n",
    "        titles_list.append(title_data)  # Menambahkan dictionary judul ke 'titles_list'\n",
    "\n",
    "filename = 'judul1.csv'  # Nama file CSV untuk menyimpan data judul\n",
    "\n",
    "# Membuka file CSV dan menulis data judul ke dalamnya\n",
    "with open(filename, 'w', newline='', encoding='utf-8') as f:\n",
    "    fieldnames = ['Page Number', 'Title Number', 'Title Name']  # Nama kolom dalam file CSV\n",
    "    writer = csv.DictWriter(f, fieldnames=fieldnames)  # Membuat objek penulis CSV dengan nama kolom\n",
    "    writer.writeheader()  # Menulis header kolom ke file CSV\n",
    "    writer.writerows(titles_list)  # Menulis baris data judul ke file CSV\n",
    "    \n",
    "print(\"Data berhasil disimpan ke dalam file judul.csv\")  # Menampilkan pesan sukses setelah menulis data ke file CSV\n"
   ]
  }
 ],
 "metadata": {
  "kernelspec": {
   "display_name": "Python 3 (ipykernel)",
   "language": "python",
   "name": "python3"
  },
  "language_info": {
   "codemirror_mode": {
    "name": "ipython",
    "version": 3
   },
   "file_extension": ".py",
   "mimetype": "text/x-python",
   "name": "python",
   "nbconvert_exporter": "python",
   "pygments_lexer": "ipython3",
   "version": "3.9.13"
  }
 },
 "nbformat": 4,
 "nbformat_minor": 5
}
